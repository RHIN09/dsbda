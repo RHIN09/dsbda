{
 "cells": [
  {
   "cell_type": "code",
   "execution_count": 72,
   "id": "21ffcb6d",
   "metadata": {},
   "outputs": [],
   "source": [
    "import pandas as pd\n",
    "from sklearn.preprocessing import StandardScaler\n",
    "from sklearn.linear_model import LogisticRegression\n",
    "from sklearn.model_selection import train_test_split\n",
    "from sklearn.naive_bayes import GaussianNB\n",
    "from sklearn.metrics import accuracy_score"
   ]
  },
  {
   "cell_type": "code",
   "execution_count": 73,
   "id": "f6325f87",
   "metadata": {},
   "outputs": [
    {
     "name": "stdout",
     "output_type": "stream",
     "text": [
      "   age  workclass  fnlwgt     education  educational-num      marital-status  \\\n",
      "0   25    Private  226802          11th                7       Never-married   \n",
      "1   38    Private   89814       HS-grad                9  Married-civ-spouse   \n",
      "2   28  Local-gov  336951    Assoc-acdm               12  Married-civ-spouse   \n",
      "3   44    Private  160323  Some-college               10  Married-civ-spouse   \n",
      "4   18          ?  103497  Some-college               10       Never-married   \n",
      "\n",
      "          occupation relationship   race  gender  capital-gain  capital-loss  \\\n",
      "0  Machine-op-inspct    Own-child  Black    Male             0             0   \n",
      "1    Farming-fishing      Husband  White    Male             0             0   \n",
      "2    Protective-serv      Husband  White    Male             0             0   \n",
      "3  Machine-op-inspct      Husband  Black    Male          7688             0   \n",
      "4                  ?    Own-child  White  Female             0             0   \n",
      "\n",
      "   hours-per-week native-country income  \n",
      "0              40  United-States  <=50K  \n",
      "1              50  United-States  <=50K  \n",
      "2              40  United-States   >50K  \n",
      "3              40  United-States   >50K  \n",
      "4              30  United-States  <=50K  \n"
     ]
    },
    {
     "data": {
      "text/plain": [
       "Index(['age', 'workclass', 'fnlwgt', 'education', 'educational-num',\n",
       "       'marital-status', 'occupation', 'relationship', 'race', 'gender',\n",
       "       'capital-gain', 'capital-loss', 'hours-per-week', 'native-country',\n",
       "       'income'],\n",
       "      dtype='object')"
      ]
     },
     "execution_count": 73,
     "metadata": {},
     "output_type": "execute_result"
    }
   ],
   "source": [
    "df=pd.read_csv('adult_dataset.csv')\n",
    "\n",
    "print(df.head(5))\n",
    "df.columns\n"
   ]
  },
  {
   "cell_type": "code",
   "execution_count": 74,
   "id": "98f75941",
   "metadata": {},
   "outputs": [],
   "source": [
    "# a. Data cleaning(Remove NA, ?, Negative values etc.)  \n",
    "\n",
    "df.replace('?',pd.NA,inplace=True)\n",
    "\n",
    "df.dropna(inplace=True)\n"
   ]
  },
  {
   "cell_type": "code",
   "execution_count": 75,
   "id": "615218bb",
   "metadata": {},
   "outputs": [],
   "source": [
    "# b. Error correcting(Outlier detection and removal)  \n",
    "\n",
    "num_cols=df.select_dtypes(include=['int64','float64']).columns\n",
    "\n",
    "for col in num_cols:\n",
    "    low=df[col].quantile(0.01)\n",
    "    high=df[col].quantile(0.99)\n",
    "    df=df[(df[col]>=low) & (df[col]<=high)]"
   ]
  },
  {
   "cell_type": "code",
   "execution_count": 76,
   "id": "ff421115",
   "metadata": {},
   "outputs": [],
   "source": [
    "# c. Data Transformation\n",
    "\n",
    "scaler=StandardScaler()\n",
    "df[num_cols]=scaler.fit_transform(df[num_cols])\n",
    "\n",
    "from sklearn.preprocessing import LabelEncoder\n",
    "\n",
    "# Label encode all object (string) columns\n",
    "label = LabelEncoder()\n",
    "for col in df.select_dtypes(include='object').columns:\n",
    "    if col != 'income':\n",
    "        df[col] = label.fit_transform(df[col])\n"
   ]
  },
  {
   "cell_type": "code",
   "execution_count": 79,
   "id": "5651ba37",
   "metadata": {},
   "outputs": [
    {
     "name": "stdout",
     "output_type": "stream",
     "text": [
      "Accuracy of Logistic Regression: 0.819268552491419\n",
      "Accuracy of Naive Bayes: 0.8057758314593443\n"
     ]
    }
   ],
   "source": [
    "# d. Build Data model using regression and Naïve Bayes methods for prediction of income category (>=50k or <=50k) and compare accuracy Prediction. \n",
    "\n",
    "X=df.drop('income',axis=1)\n",
    "y=df['income'].apply(lambda x:1 if x=='>50K' else 0)\n",
    "\n",
    "X_train,X_test,y_train,y_test=train_test_split(X,y,test_size=0.2,random_state=1)\n",
    "\n",
    "\n",
    "# Logistic Regression\n",
    "lr=LogisticRegression(max_iter=1000)\n",
    "lr.fit(X_train,y_train)\n",
    "lr_pred=lr.predict(X_test)\n",
    "\n",
    "# Naive Bayes\n",
    "nb=GaussianNB()\n",
    "nb.fit(X_train,y_train)\n",
    "nb_pred=nb.predict(X_test)\n",
    "\n",
    "print('Accuracy of Logistic Regression:', accuracy_score(y_test,lr_pred))\n",
    "print('Accuracy of Naive Bayes:', accuracy_score(y_test,nb_pred))\n",
    "\n"
   ]
  },
  {
   "cell_type": "code",
   "execution_count": null,
   "id": "999a011c",
   "metadata": {},
   "outputs": [],
   "source": []
  }
 ],
 "metadata": {
  "kernelspec": {
   "display_name": "Python 3",
   "language": "python",
   "name": "python3"
  },
  "language_info": {
   "codemirror_mode": {
    "name": "ipython",
    "version": 3
   },
   "file_extension": ".py",
   "mimetype": "text/x-python",
   "name": "python",
   "nbconvert_exporter": "python",
   "pygments_lexer": "ipython3",
   "version": "3.11.9"
  }
 },
 "nbformat": 4,
 "nbformat_minor": 5
}
