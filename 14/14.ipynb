{
 "cells": [
  {
   "cell_type": "code",
   "execution_count": 14,
   "id": "82e58a59",
   "metadata": {},
   "outputs": [],
   "source": [
    "import pandas as pd\n",
    "from sklearn.model_selection import train_test_split\n",
    "from sklearn.linear_model import LogisticRegression\n",
    "from sklearn.naive_bayes import GaussianNB\n",
    "from sklearn.metrics import accuracy_score\n",
    "from sklearn.preprocessing import StandardScaler"
   ]
  },
  {
   "cell_type": "code",
   "execution_count": 15,
   "id": "4067ffda",
   "metadata": {},
   "outputs": [
    {
     "name": "stdout",
     "output_type": "stream",
     "text": [
      "   sepal.length  sepal.width  petal.length  petal.width variety\n",
      "0           5.1          3.5           1.4          0.2  Setosa\n",
      "1           4.9          3.0           1.4          0.2  Setosa\n",
      "2           4.7          3.2           1.3          0.2  Setosa\n",
      "3           4.6          3.1           1.5          0.2  Setosa\n",
      "4           5.0          3.6           1.4          0.2  Setosa\n"
     ]
    },
    {
     "data": {
      "text/plain": [
       "Index(['sepal.length', 'sepal.width', 'petal.length', 'petal.width',\n",
       "       'variety'],\n",
       "      dtype='object')"
      ]
     },
     "execution_count": 15,
     "metadata": {},
     "output_type": "execute_result"
    }
   ],
   "source": [
    "df=pd.read_csv('iris.csv')\n",
    "\n",
    "print(df.head(5))\n",
    "\n",
    "df.columns"
   ]
  },
  {
   "cell_type": "code",
   "execution_count": 16,
   "id": "b9af6811",
   "metadata": {},
   "outputs": [],
   "source": [
    "# a. Data cleaning(Remove NA, ?, Negative values etc.)  \n",
    "\n",
    "df.replace('?',pd.NA,inplace=True)\n",
    "\n",
    "df.dropna(inplace=True)\n",
    "\n"
   ]
  },
  {
   "cell_type": "code",
   "execution_count": 17,
   "id": "e70adb3b",
   "metadata": {},
   "outputs": [],
   "source": [
    "# b. Error correcting(Outlier detection and removal)  \n",
    "\n",
    "df=df[(df['sepal.length']<8) & (df['sepal.width']<8) & (df['petal.length']<8) & (df['petal.width']<8) ]"
   ]
  },
  {
   "cell_type": "code",
   "execution_count": null,
   "id": "9b479f0c",
   "metadata": {},
   "outputs": [],
   "source": [
    "# c. Data transformation  \n",
    "\n",
    "scaler= StandardScaler()\n",
    "\n",
    "feature=df.drop(['variety'],axis=1)\n",
    "feature_scaled=scaler.fit_transform(feature)"
   ]
  },
  {
   "cell_type": "code",
   "execution_count": 19,
   "id": "4dfebf60",
   "metadata": {},
   "outputs": [
    {
     "name": "stdout",
     "output_type": "stream",
     "text": [
      "Logistic Regression Accuracy: 0.9666666666666667\n",
      "Naive Bayes Accuracy: 0.9666666666666667\n"
     ]
    }
   ],
   "source": [
    "# d.  Build Data model using regression and Naïve Bayes methods and compare accuracy of Iris Species Prediction.  \n",
    "\n",
    "X=feature_scaled\n",
    "y=df['variety']\n",
    "\n",
    "X_train,X_test,y_train,y_test=train_test_split(X,y,test_size=0.2,random_state=1)\n",
    "\n",
    "# Logistic Regression\n",
    "lr=LogisticRegression()\n",
    "lr.fit(X_train,y_train)\n",
    "lr_pred=lr.predict(X_test)\n",
    "\n",
    "\n",
    "# Naive Bayes\n",
    "nb=GaussianNB()\n",
    "nb.fit(X_train,y_train)\n",
    "nb_pred=nb.predict(X_test)\n",
    "\n",
    "\n",
    "\n",
    "print('Logistic Regression Accuracy:', accuracy_score(y_test,lr_pred))\n",
    "print('Naive Bayes Accuracy:', accuracy_score(y_test,nb_pred))"
   ]
  },
  {
   "cell_type": "code",
   "execution_count": null,
   "id": "14c21d4e",
   "metadata": {},
   "outputs": [],
   "source": []
  }
 ],
 "metadata": {
  "kernelspec": {
   "display_name": "Python 3",
   "language": "python",
   "name": "python3"
  },
  "language_info": {
   "codemirror_mode": {
    "name": "ipython",
    "version": 3
   },
   "file_extension": ".py",
   "mimetype": "text/x-python",
   "name": "python",
   "nbconvert_exporter": "python",
   "pygments_lexer": "ipython3",
   "version": "3.11.9"
  }
 },
 "nbformat": 4,
 "nbformat_minor": 5
}
